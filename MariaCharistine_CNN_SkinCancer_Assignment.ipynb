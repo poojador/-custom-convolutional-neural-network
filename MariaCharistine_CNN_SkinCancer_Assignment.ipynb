{
 "cells": [
  {
   "cell_type": "markdown",
   "id": "ff66fd27",
   "metadata": {},
   "source": [
    "Problem statement: To build a CNN based model which can accurately detect melanoma. Melanoma is a type of cancer that can be deadly if not detected early. It accounts for 75% of skin cancer deaths. A solution which can evaluate images and alert the dermatologists about the presence of melanoma has the potential to reduce a lot of manual effort needed in diagnosis."
   ]
  },
  {
   "cell_type": "markdown",
   "id": "f01ecec5",
   "metadata": {},
   "source": [
    "## Importing Skin Cancer Data\n",
    "\n",
    "### To do: Take necessary actions to read the data"
   ]
  },
  {
   "cell_type": "markdown",
   "id": "a32f1bf9",
   "metadata": {},
   "source": [
    "### Importing all the important libraries"
   ]
  },
  {
   "cell_type": "code",
   "execution_count": 6,
   "id": "b298dcd9",
   "metadata": {},
   "outputs": [],
   "source": [
    "import pathlib\n",
    "import tensorflow as tf\n",
    "import matplotlib.pyplot as plt\n",
    "import numpy as np\n",
    "import pandas as pd\n",
    "import os\n",
    "import PIL\n",
    "from tensorflow import keras\n",
    "from tensorflow.keras import layers\n",
    "from tensorflow.keras.models import Sequential"
   ]
  },
  {
   "cell_type": "markdown",
   "id": "5c753e0c",
   "metadata": {},
   "source": [
    "This assignment uses a dataset of about 2357 images of skin cancer types. The dataset contains 9 sub-directories in each train and test subdirectories. The 9 sub-directories contains the images of 9 skin cancer types respectively."
   ]
  },
  {
   "cell_type": "code",
   "execution_count": null,
   "id": "3e8681b1",
   "metadata": {},
   "outputs": [],
   "source": [
    "## If you are using the data by mounting the google drive, use the following :\n",
    "from google.colab import drive\n",
    "drive.mount('/content/gdrive')\n",
    "\n",
    "##Ref:https://towardsdatascience.com/downloading-datasets-into-google-drive-via-google-colab-bcb1b30b0166"
   ]
  },
  {
   "cell_type": "code",
   "execution_count": null,
   "id": "ac952318",
   "metadata": {},
   "outputs": [],
   "source": [
    "# Defining the path for train and test images\n",
    "## Todo: Update the paths of the train and test dataset\n",
    "data_dir_train = pathlib.Path(\"/content/gdrive/MyDrive/Skin cancer ISIC The International Skin Imaging Collaboration/Train\")\n",
    "data_dir_test = pathlib.Path(\"/content/gdrive/MyDrive/Skin cancer ISIC The International Skin Imaging Collaboration/Test\")"
   ]
  },
  {
   "cell_type": "code",
   "execution_count": null,
   "id": "300f394b",
   "metadata": {},
   "outputs": [],
   "source": [
    "image_count_train = len(list(data_dir_train.glob('*/*.jpg')))\n",
    "print(image_count_train)\n",
    "image_count_test = len(list(data_dir_test.glob('*/*.jpg')))\n",
    "print(image_count_test)"
   ]
  },
  {
   "cell_type": "markdown",
   "id": "1c625c18",
   "metadata": {},
   "source": [
    "## Load using keras.preprocessing\n",
    "### Let's load these images off disk using the helpful image_dataset_from_directory utility.\n",
    "\n",
    "#### Create a dataset\n",
    "#### Define some parameters for the loader:"
   ]
  },
  {
   "cell_type": "code",
   "execution_count": 7,
   "id": "4c692f7e",
   "metadata": {},
   "outputs": [],
   "source": [
    "batch_size = 32\n",
    "img_height = 180\n",
    "img_width = 180"
   ]
  },
  {
   "cell_type": "markdown",
   "id": "66641d36",
   "metadata": {},
   "source": [
    "#### Use 80% of the images for training, and 20% for validation."
   ]
  },
  {
   "cell_type": "code",
   "execution_count": null,
   "id": "f764aff0",
   "metadata": {},
   "outputs": [],
   "source": [
    "## Write your train dataset here\n",
    "## Note use seed=123 while creating your dataset using tf.keras.preprocessing.image_dataset_from_directory\n",
    "## Note, make sure your resize your images to the size img_height*img_width, while writting the dataset\n",
    "\n",
    "train_ds = tf.keras.preprocessing.image_dataset_from_directory(\n",
    "  data_dir_train,\n",
    "  labels='inferred',\n",
    "  batch_size=batch_size,\n",
    "  image_size=(img_height, img_width),\n",
    "  seed=123,\n",
    "  validation_split=0.2,\n",
    "  subset='training')"
   ]
  },
  {
   "cell_type": "code",
   "execution_count": null,
   "id": "bb06f743",
   "metadata": {},
   "outputs": [],
   "source": [
    "## Write your validation dataset here\n",
    "## Note use seed=123 while creating your dataset using tf.keras.preprocessing.image_dataset_from_directory\n",
    "## Note, make sure your resize your images to the size img_height*img_width, while writting the dataset\n",
    "val_ds = tf.keras.preprocessing.image_dataset_from_directory(\n",
    "  data_dir_train,\n",
    "  labels='inferred',\n",
    "  batch_size=batch_size,\n",
    "  image_size=(img_height, img_width),\n",
    "  seed=123,\n",
    "  validation_split=0.2,\n",
    "  subset='validation')"
   ]
  },
  {
   "cell_type": "code",
   "execution_count": null,
   "id": "56f5f3ea",
   "metadata": {},
   "outputs": [],
   "source": [
    "# List out all the classes of skin cancer and store them in a list. \n",
    "# You can find the class names in the class_names attribute on these datasets. \n",
    "# These correspond to the directory names in alphabetical order.\n",
    "class_names = train_ds.class_names\n",
    "print(class_names)"
   ]
  },
  {
   "cell_type": "markdown",
   "id": "56bea9a0",
   "metadata": {},
   "source": [
    "### Visualize the data\n",
    "\n",
    "#### Todo, create a code to visualize one instance of all the nine classes present in the dataset"
   ]
  },
  {
   "cell_type": "code",
   "execution_count": null,
   "id": "14caeb00",
   "metadata": {},
   "outputs": [],
   "source": [
    "import matplotlib.pyplot as plt\n",
    "plt.figure(figsize=(20,20))\n",
    "for images, labels in train_ds.take(1):\n",
    "  print(len(images))\n",
    "  print(len(labels))\n",
    "  for i in range(32):\n",
    "    ax = plt.subplot(8, 4, i+1)\n",
    "    plt.imshow(images[i].numpy().astype(\"uint8\"))\n",
    "    plt.title(class_names[labels[i]])\n",
    "    plt.axis(\"off\")\n",
    "\n",
    "### your code goes here, you can use training or validation data to visualize"
   ]
  },
  {
   "cell_type": "markdown",
   "id": "a8983043",
   "metadata": {},
   "source": [
    "The `image_batch` is a tensor of the shape `(32, 180, 180, 3)`. This is a batch of 32 images of shape `180x180x3` (the last dimension refers to color channels RGB). The `label_batch` is a tensor of the shape `(32,)`, these are corresponding labels to the 32 images."
   ]
  },
  {
   "cell_type": "markdown",
   "id": "fcc7d21f",
   "metadata": {},
   "source": [
    "Dataset.cache() keeps the images in memory after they're loaded off disk during the first epoch.\n",
    "\n",
    "Dataset.prefetch() overlaps data preprocessing and model execution while training."
   ]
  },
  {
   "cell_type": "markdown",
   "id": "5c1a44df",
   "metadata": {},
   "source": [
    "AUTOTUNE = tf.data.experimental.AUTOTUNE\n",
    "train_ds = train_ds.cache().shuffle(1000).prefetch(buffer_size=AUTOTUNE)\n",
    "val_ds = val_ds.cache().prefetch(buffer_size=AUTOTUNE)"
   ]
  },
  {
   "cell_type": "markdown",
   "id": "ce586c2f",
   "metadata": {},
   "source": [
    "## Create the model\n",
    "\n",
    "#### Todo: Create a CNN model, which can accurately detect 9 classes present in the dataset. Use layers.experimental.preprocessing.Rescaling to normalize pixel values between (0,1). The RGB channel values are in the [0, 255] range. This is not ideal for a neural network. Here, it is good to standardize values to be in the [0, 1]"
   ]
  },
  {
   "cell_type": "code",
   "execution_count": null,
   "id": "7326fa16",
   "metadata": {},
   "outputs": [],
   "source": [
    "### Your code goes here\n",
    "num_classes = 9\n",
    "model = Sequential([\n",
    "  layers.experimental.preprocessing.Rescaling(1.0/255, input_shape=(img_height, img_width, 3)),\n",
    "\n",
    "  #2D convolution layer (e.g. spatial convolution over images).\n",
    "  layers.Conv2D(16, 3, padding='same', activation='relu'),\n",
    "\n",
    "  #sliding over the feature map and extract tiles of a specified size.\n",
    "  #downsamples the input along its spatial dimensions (height and width) by taking the maximum value over an input window (of size defined by pool_size) for each channel of the input.\n",
    "  layers.MaxPooling2D(),\n",
    "\n",
    "  #2D convolution layer.\n",
    "  layers.Conv2D(32, 3, padding='same', activation='relu'),\n",
    "\n",
    "  layers.MaxPooling2D(),\n",
    "\n",
    "  layers.Conv2D(64, 3, padding='same', activation='relu'),\n",
    "\n",
    "  layers.MaxPooling2D(),\n",
    "\n",
    "  #Flatting =  converting into 1D feature vector. Flattens the structure to create a single long feature vector\n",
    "  layers.Flatten(),\n",
    "\n",
    "  #fully connected layer (Dense Layer)\n",
    "  #A hidden layer in which each node is connected to every node in the subsequent hidden layer\n",
    "  layers.Dense(128, activation='relu'),\n",
    "  \n",
    "  #Dense layer is the only actual network layer feeding alll outputs from previous layer to all its' neurons implementing the operation: output = activation(dot(input, kernel)). its representing a matrix vector multiplication.\n",
    "  layers.Dense(num_classes)                    \n",
    "])\n"
   ]
  },
  {
   "cell_type": "markdown",
   "id": "9c4926bb",
   "metadata": {},
   "source": [
    "### Compile the model\n",
    "\n",
    "#### Choose an appropirate optimiser and loss function for model training"
   ]
  },
  {
   "cell_type": "code",
   "execution_count": null,
   "id": "df9aa06d",
   "metadata": {},
   "outputs": [],
   "source": [
    "### Todo, choose an appropirate optimiser and loss function\n",
    "model.compile(optimizer='adam',\n",
    "              loss=tf.keras.losses.SparseCategoricalCrossentropy(from_logits=True),\n",
    "              metrics=['accuracy'])"
   ]
  },
  {
   "cell_type": "code",
   "execution_count": null,
   "id": "dafc2e01",
   "metadata": {},
   "outputs": [],
   "source": [
    "# View the summary of all layers\n",
    "model.summary()"
   ]
  },
  {
   "cell_type": "markdown",
   "id": "2a96bf6d",
   "metadata": {},
   "source": [
    "### Train the model"
   ]
  },
  {
   "cell_type": "code",
   "execution_count": null,
   "id": "a0fa2620",
   "metadata": {},
   "outputs": [],
   "source": [
    "epochs = 20\n",
    "history = model.fit(\n",
    "  train_ds,\n",
    "  validation_data=val_ds,\n",
    "  epochs=epochs\n",
    ")"
   ]
  },
  {
   "cell_type": "markdown",
   "id": "ce93ea03",
   "metadata": {},
   "source": [
    "### Visualizing training results"
   ]
  },
  {
   "cell_type": "code",
   "execution_count": null,
   "id": "f81932ef",
   "metadata": {},
   "outputs": [],
   "source": [
    "acc = history.history['accuracy']\n",
    "val_acc = history.history['val_accuracy']\n",
    "\n",
    "loss = history.history['loss']\n",
    "val_loss = history.history['val_loss']\n",
    "\n",
    "epochs_range = range(epochs)\n",
    "\n",
    "plt.figure(figsize=(8, 8))\n",
    "plt.subplot(1, 2, 1)\n",
    "plt.plot(epochs_range, acc, label='Training Accuracy')\n",
    "plt.plot(epochs_range, val_acc, label='Validation Accuracy')\n",
    "plt.legend(loc='lower right')\n",
    "plt.title('Training and Validation Accuracy')\n",
    "\n",
    "plt.subplot(1, 2, 2)\n",
    "plt.plot(epochs_range, loss, label='Training Loss')\n",
    "plt.plot(epochs_range, val_loss, label='Validation Loss')\n",
    "plt.legend(loc='upper right')\n",
    "plt.title('Training and Validation Loss')\n",
    "plt.show()"
   ]
  },
  {
   "cell_type": "markdown",
   "id": "969f5ff8",
   "metadata": {},
   "source": [
    "#### Todo: Write your findings after the model fit, see if there is an evidence of model overfit or underfit\n",
    "\n",
    "## Write your findings here"
   ]
  },
  {
   "cell_type": "code",
   "execution_count": null,
   "id": "f5dc93f2",
   "metadata": {},
   "outputs": [],
   "source": [
    "# Todo, after you have analysed the model fit history for presence of underfit or overfit, choose an appropriate data augumentation strategy. \n",
    "# Your code goes here\n",
    "data_augmentation = keras.Sequential(\n",
    "    [\n",
    "     layers.experimental.preprocessing.RandomFlip(\"horizontal_and_vertical\",\n",
    "                                                  input_shape=(img_height,\n",
    "                                                               img_width,\n",
    "                                                               3)),\n",
    "     layers.experimental.preprocessing.RandomRotation(0.4),\n",
    "     layers.experimental.preprocessing.RandomZoom(0.5),\n",
    "     layers.experimental.preprocessing.RandomContrast(0.5),\n",
    "     layers.experimental.preprocessing.RandomCrop(img_height, img_width),\n",
    "     layers.experimental.preprocessing.RandomTranslation(1,.5,fill_mode=\"reflect\",interpolation=\"bilinear\",seed=None,fill_value=0.0),\n",
    "    ]\n",
    ")"
   ]
  },
  {
   "cell_type": "code",
   "execution_count": null,
   "id": "0c88ae14",
   "metadata": {},
   "outputs": [],
   "source": [
    "# Todo, visualize how your augmentation strategy works for one instance of training image.\n",
    "# Your code goes here\n",
    "plt.figure(figsize=(10,10))\n",
    "for images, _ in train_ds.take(1):  \n",
    "  for i in range(9):\n",
    "    augmented_images = data_augmentation(images)\n",
    "    ax = plt.subplot(3, 3, i+1)\n",
    "    plt.imshow(augmented_images[0].numpy().astype(\"uint8\"))\n",
    "    plt.axis(\"off\")"
   ]
  },
  {
   "cell_type": "markdown",
   "id": "870b4ce7",
   "metadata": {},
   "source": [
    "### Todo:\n",
    "    \n",
    "### Create the model, compile and train the model"
   ]
  },
  {
   "cell_type": "code",
   "execution_count": null,
   "id": "e5ef5d90",
   "metadata": {},
   "outputs": [],
   "source": [
    "## You can use Dropout layer if there is an evidence of overfitting in your findings\n",
    "\n",
    "## Your code goes here\n",
    "num_classes = 9\n",
    "model = Sequential([\n",
    "  data_augmentation,\n",
    "\n",
    "  layers.experimental.preprocessing.Rescaling(1.0/255, input_shape=(img_height, img_width, 3)),\n",
    "\n",
    "  #2D convolution layer (e.g. spatial convolution over images).\n",
    "  layers.Conv2D(16, 3, padding='same', activation='relu'),\n",
    "\n",
    "  #sliding over the feature map and extract tiles of a specified size.\n",
    "  #downsamples the input along its spatial dimensions (height and width) by taking the maximum value over an input window (of size defined by pool_size) for each channel of the input.\n",
    "  layers.MaxPooling2D(),\n",
    "  \n",
    "\n",
    "  #2D convolution layer.\n",
    "  layers.Conv2D(32, 3, padding='same', activation='relu'),\n",
    "\n",
    "  layers.MaxPooling2D(),\n",
    "\n",
    "  layers.Conv2D(64, 3, padding='same', activation='relu'),\n",
    "\n",
    "  layers.MaxPooling2D(),\n",
    "\n",
    "  layers.Dropout(0.2),\n",
    "  #Flatting =  converting into 1D feature vector. Flattens the structure to create a single long feature vector\n",
    "  layers.Flatten(),\n",
    "\n",
    "  #fully connected layer (Dense Layer)\n",
    "  #A hidden layer in which each node is connected to every node in the subsequent hidden layer\n",
    "  layers.Dense(128, activation='relu'),\n",
    "\n",
    "  #Dense layer is the only actual network layer feeding alll outputs from previous layer to all its' neurons implementing the operation: output = activation(dot(input, kernel)). its representing a matrix vector multiplication.\n",
    "  layers.Dense(num_classes) \n",
    "                  \n",
    "])\n",
    "\n",
    "\n",
    "\n"
   ]
  },
  {
   "cell_type": "markdown",
   "id": "f03ba8d6",
   "metadata": {},
   "source": [
    "### Compiling the model"
   ]
  },
  {
   "cell_type": "code",
   "execution_count": null,
   "id": "8333cbf4",
   "metadata": {},
   "outputs": [],
   "source": [
    "## Your code goes here\n",
    "model.compile(optimizer='adam',\n",
    "              loss=tf.keras.losses.SparseCategoricalCrossentropy(from_logits=True),\n",
    "              metrics=['accuracy'])"
   ]
  },
  {
   "cell_type": "code",
   "execution_count": null,
   "id": "430f32de",
   "metadata": {},
   "outputs": [],
   "source": [
    "model.summary()"
   ]
  },
  {
   "cell_type": "markdown",
   "id": "85b613ec",
   "metadata": {},
   "source": [
    "### Training the model"
   ]
  },
  {
   "cell_type": "code",
   "execution_count": null,
   "id": "e53f093e",
   "metadata": {},
   "outputs": [],
   "source": [
    "## Your code goes here, note: train your model for 20 epochs\n",
    "history = model.fit(\n",
    "  train_ds,\n",
    "  validation_data=val_ds,\n",
    "  epochs=epochs\n",
    ")"
   ]
  },
  {
   "cell_type": "markdown",
   "id": "e5c3637a",
   "metadata": {},
   "source": [
    "### Visualizing the results"
   ]
  },
  {
   "cell_type": "code",
   "execution_count": null,
   "id": "955d66ce",
   "metadata": {},
   "outputs": [],
   "source": [
    "acc = history.history['accuracy']\n",
    "val_acc = history.history['val_accuracy']\n",
    "\n",
    "loss = history.history['loss']\n",
    "val_loss = history.history['val_loss']\n",
    "\n",
    "epochs_range = range(epochs)\n",
    "\n",
    "plt.figure(figsize=(8, 8))\n",
    "plt.subplot(1, 2, 1)\n",
    "plt.plot(epochs_range, acc, label='Training Accuracy')\n",
    "plt.plot(epochs_range, val_acc, label='Validation Accuracy')\n",
    "plt.legend(loc='lower right')\n",
    "plt.title('Training and Validation Accuracy')\n",
    "\n",
    "plt.subplot(1, 2, 2)\n",
    "plt.plot(epochs_range, loss, label='Training Loss')\n",
    "plt.plot(epochs_range, val_loss, label='Validation Loss')\n",
    "plt.legend(loc='upper right')\n",
    "plt.title('Training and Validation Loss')\n",
    "plt.show()"
   ]
  },
  {
   "cell_type": "markdown",
   "id": "295f7412",
   "metadata": {},
   "source": [
    "#### Todo: Write your findings after the model fit, see if there is an evidence of model overfit or underfit. Do you think there is some improvement now as compared to the previous model run?\n",
    "\n",
    "#### Todo: Find the distribution of classes in the training dataset.\n",
    "\n",
    "#### Context: Many times real life datasets can have class imbalance, one class can have proportionately higher number of samples compared to the others. Class imbalance can have a detrimental effect on the final model quality. Hence as a sanity check it becomes important to check what is the distribution of classes in the data."
   ]
  },
  {
   "cell_type": "code",
   "execution_count": null,
   "id": "eefb1b1b",
   "metadata": {},
   "outputs": [],
   "source": [
    "## Your code goes here.\n",
    "from glob import glob\n",
    "path_list = [x for x in glob(os.path.join(data_dir_train, '*', '*.jpg'))]\n",
    "len(path_list)"
   ]
  },
  {
   "cell_type": "code",
   "execution_count": null,
   "id": "ff149ed3",
   "metadata": {},
   "outputs": [],
   "source": [
    "lesion_list = [os.path.basename(os.path.dirname(y)) for y in glob(os.path.join(data_dir_train, '*', '*.jpg'))]\n",
    "len(lesion_list)"
   ]
  },
  {
   "cell_type": "code",
   "execution_count": null,
   "id": "5ca26a0e",
   "metadata": {},
   "outputs": [],
   "source": [
    "dataframe_dict_original = dict(zip(path_list, lesion_list))"
   ]
  },
  {
   "cell_type": "code",
   "execution_count": null,
   "id": "0ee19408",
   "metadata": {},
   "outputs": [],
   "source": [
    "original_df = pd.DataFrame(list(dataframe_dict_original.items()),columns = ['Path','Label'])\n",
    "original_df"
   ]
  },
  {
   "cell_type": "code",
   "execution_count": null,
   "id": "c8c8f86a",
   "metadata": {},
   "outputs": [],
   "source": [
    "from sklearn.preprocessing import LabelEncoder\n",
    "from collections import Counter\n",
    "# split into input and output elements\n",
    "X, y = original_df['Path'], original_df['Label']\n",
    "# label encode the target variable\n",
    "y = LabelEncoder().fit_transform(y)\n",
    "# summarize distribution\n",
    "counter = Counter(y)\n",
    "for k,v in counter.items():\n",
    "  per = v / len(y) * 100\n",
    "  print('Class=%d, n=%d (%.3f%%)' % (k, v, per))\n",
    "# plot the distribution\n",
    "plt.bar(counter.keys(), counter.values())\n",
    "plt.show()"
   ]
  },
  {
   "cell_type": "markdown",
   "id": "15fca437",
   "metadata": {},
   "source": [
    "#### Todo: Write your findings here:\n",
    "- Which class has the least number of samples?\n",
    "- Which classes dominate the data in terms proportionate number of samples?\n",
    "\n",
    "#### Todo: Rectify the class imbalance\n",
    "\n",
    "#### Context: You can use a python package known as Augmentor (https://augmentor.readthedocs.io/en/master/) to add more samples across all classes so that none of the classes have very few samples."
   ]
  },
  {
   "cell_type": "code",
   "execution_count": null,
   "id": "9fb4f99e",
   "metadata": {},
   "outputs": [],
   "source": [
    "!pip install Augmentor"
   ]
  },
  {
   "cell_type": "markdown",
   "id": "3214c02f",
   "metadata": {},
   "source": [
    "To use Augmentor, the following general procedure is followed:\n",
    "\n",
    "1. Instantiate a Pipeline object pointing to a directory containing your initial image data set.\n",
    "2. Define a number of operations to perform on this data set using your Pipeline object.\n",
    "3. Execute these operations by calling the Pipeline’s sample() method."
   ]
  },
  {
   "cell_type": "code",
   "execution_count": null,
   "id": "5c930939",
   "metadata": {},
   "outputs": [],
   "source": [
    "path_to_training_dataset=\"To do\"\n",
    "import Augmentor\n",
    "for i in class_names:\n",
    "    p = Augmentor.Pipeline(path_to_training_dataset + i)\n",
    "    p.rotate(probability=0.7, max_left_rotation=10, max_right_rotation=10)\n",
    "    p.sample(500) ## We are adding 500 samples per class to make sure that none of the classes are sparse."
   ]
  },
  {
   "cell_type": "markdown",
   "id": "3a504ca1",
   "metadata": {},
   "source": [
    "Augmentor has stored the augmented images in the output sub-directory of each of the sub-directories of skin cancer types.. Lets take a look at total count of augmented images."
   ]
  },
  {
   "cell_type": "code",
   "execution_count": null,
   "id": "f46a4d74",
   "metadata": {},
   "outputs": [],
   "source": [
    "image_count_train = len(list(data_dir_train.glob('*/output/*.jpg')))\n",
    "print(image_count_train)"
   ]
  },
  {
   "cell_type": "markdown",
   "id": "1837e28b",
   "metadata": {},
   "source": [
    "### Lets see the distribution of augmented data after adding new images to the original training data."
   ]
  },
  {
   "cell_type": "code",
   "execution_count": null,
   "id": "0aa349f2",
   "metadata": {},
   "outputs": [],
   "source": [
    "path_list_new = [x for x in glob(os.path.join(data_dir_train, '*','output', '*.jpg'))]\n",
    "path_list_new"
   ]
  },
  {
   "cell_type": "code",
   "execution_count": null,
   "id": "ae9a2940",
   "metadata": {},
   "outputs": [],
   "source": [
    "lesion_list_new = [os.path.basename(os.path.dirname(os.path.dirname(y))) for y in glob(os.path.join(data_dir_train, '*','output', '*.jpg'))]\n",
    "lesion_list_new"
   ]
  },
  {
   "cell_type": "code",
   "execution_count": null,
   "id": "f00626e7",
   "metadata": {},
   "outputs": [],
   "source": [
    "dataframe_dict_new = dict(zip(path_list_new, lesion_list_new))"
   ]
  },
  {
   "cell_type": "code",
   "execution_count": null,
   "id": "d7b7d4b1",
   "metadata": {},
   "outputs": [],
   "source": [
    "df2 = pd.DataFrame(list(dataframe_dict_new.items()),columns = ['Path','Label'])\n",
    "new_df = original_df.append(df2)\n",
    "new_df"
   ]
  },
  {
   "cell_type": "code",
   "execution_count": null,
   "id": "686977e0",
   "metadata": {},
   "outputs": [],
   "source": [
    "new_df['Label'].value_counts()"
   ]
  },
  {
   "cell_type": "code",
   "execution_count": null,
   "id": "d5688da3",
   "metadata": {},
   "outputs": [],
   "source": [
    "df2['Label'].value_counts()"
   ]
  },
  {
   "cell_type": "markdown",
   "id": "d7fffd52",
   "metadata": {},
   "source": [
    "#### So, now we have added 500 images to all the classes to maintain some class balance. We can add more images as we want to improve training process.\n",
    "\n",
    "#### Todo: Train the model on the data created using Augmentor"
   ]
  },
  {
   "cell_type": "code",
   "execution_count": null,
   "id": "9a4d90b1",
   "metadata": {},
   "outputs": [],
   "source": [
    "batch_size = 32\n",
    "img_height = 180\n",
    "img_width = 180"
   ]
  },
  {
   "cell_type": "markdown",
   "id": "89f8ad04",
   "metadata": {},
   "source": [
    "Todo: Create a training datase"
   ]
  },
  {
   "cell_type": "code",
   "execution_count": null,
   "id": "ea7513bf",
   "metadata": {},
   "outputs": [],
   "source": [
    "train_ds = tf.keras.preprocessing.image_dataset_from_directory(\n",
    "  data_dir_train,\n",
    "  seed=123,\n",
    "  validation_split = 0.2,\n",
    "  subset = 'training',\n",
    "  image_size=(img_height, img_width),\n",
    "  batch_size=batch_size)"
   ]
  },
  {
   "cell_type": "markdown",
   "id": "b44aa8fb",
   "metadata": {},
   "source": [
    "Todo: Create a validation dataset"
   ]
  },
  {
   "cell_type": "code",
   "execution_count": null,
   "id": "3cf9f666",
   "metadata": {},
   "outputs": [],
   "source": [
    "val_ds = tf.keras.preprocessing.image_dataset_from_directory(\n",
    "  data_dir_train,\n",
    "  seed=123,\n",
    "  validation_split = 0.2,\n",
    "  subset = 'validation',\n",
    "  image_size=(img_height, img_width),\n",
    "  batch_size=batch_size)"
   ]
  },
  {
   "cell_type": "markdown",
   "id": "c41f0502",
   "metadata": {},
   "source": [
    "#### Todo: Create your model (make sure to include normalization)"
   ]
  },
  {
   "cell_type": "code",
   "execution_count": null,
   "id": "9c7968b8",
   "metadata": {},
   "outputs": [],
   "source": [
    "## your code goes here\n",
    "AUTOTUNE = tf.data.experimental.AUTOTUNE\n",
    "\n",
    "train_ds = train_ds.cache().shuffle(1000).prefetch(buffer_size=AUTOTUNE)\n",
    "val_ds = val_ds.cache().prefetch(buffer_size=AUTOTUNE)\n",
    "\n",
    "num_classes = 9\n",
    "model = Sequential([\n",
    "  layers.experimental.preprocessing.Rescaling(1./255),\n",
    "  layers.Conv2D(16, 3, padding='same', activation='relu'),\n",
    "  layers.MaxPooling2D(),\n",
    "  layers.Conv2D(32, 3, padding='same', activation='relu'),\n",
    "  layers.MaxPooling2D(),\n",
    "  layers.Conv2D(64, 3, padding='same', activation='relu'),\n",
    "  layers.MaxPooling2D(),\n",
    "  layers.Dropout(0.2),\n",
    "  layers.Flatten(),\n",
    "  layers.Dense(128, activation='relu'),\n",
    "  layers.Dense(num_classes)\n",
    "])"
   ]
  },
  {
   "cell_type": "markdown",
   "id": "e53b978f",
   "metadata": {},
   "source": [
    "#### Todo: Compile your model (Choose optimizer and loss function appropriately)"
   ]
  },
  {
   "cell_type": "code",
   "execution_count": null,
   "id": "7f98973b",
   "metadata": {},
   "outputs": [],
   "source": [
    "## your code goes here\n",
    "model.compile(optimizer='adam',\n",
    "              loss=tf.keras.losses.SparseCategoricalCrossentropy(from_logits=True),\n",
    "              metrics=['accuracy'])"
   ]
  },
  {
   "cell_type": "markdown",
   "id": "2ab86b8b",
   "metadata": {},
   "source": [
    "#### Todo: Train your model"
   ]
  },
  {
   "cell_type": "code",
   "execution_count": null,
   "id": "08429771",
   "metadata": {},
   "outputs": [],
   "source": [
    "epochs = 50\n",
    "## Your code goes here, use 50 epochs.\n",
    "history = model.fit(\n",
    "  train_ds,\n",
    "  validation_data=val_ds,\n",
    "  epochs=epochs\n",
    ")"
   ]
  },
  {
   "cell_type": "markdown",
   "id": "7209ef72",
   "metadata": {},
   "source": [
    "#### Todo: Visualize the model results"
   ]
  },
  {
   "cell_type": "code",
   "execution_count": null,
   "id": "bb12a8ff",
   "metadata": {},
   "outputs": [],
   "source": [
    "acc = history.history['accuracy']\n",
    "val_acc = history.history['val_accuracy']\n",
    "\n",
    "loss = history.history['loss']\n",
    "val_loss = history.history['val_loss']\n",
    "\n",
    "epochs_range = range(epochs)\n",
    "\n",
    "plt.figure(figsize=(8, 8))\n",
    "plt.subplot(1, 2, 1)\n",
    "plt.plot(epochs_range, acc, label='Training Accuracy')\n",
    "plt.plot(epochs_range, val_acc, label='Validation Accuracy')\n",
    "plt.legend(loc='lower right')\n",
    "plt.title('Training and Validation Accuracy')\n",
    "\n",
    "plt.subplot(1, 2, 2)\n",
    "plt.plot(epochs_range, loss, label='Training Loss')\n",
    "plt.plot(epochs_range, val_loss, label='Validation Loss')\n",
    "plt.legend(loc='upper right')\n",
    "plt.title('Training and Validation Loss')\n",
    "plt.show()"
   ]
  },
  {
   "cell_type": "markdown",
   "id": "7eb4d3c2",
   "metadata": {},
   "source": [
    "#### Todo: Analyze your results here. Did you get rid of underfitting/overfitting? Did class rebalance help?"
   ]
  },
  {
   "cell_type": "markdown",
   "id": "e229c53b",
   "metadata": {},
   "source": [
    "Augmentor allows us to create an augmentation pipeline, which chains together operations that are applied stochastically, where the parameters of each of these operations are also chosen at random, within a range specified by the user. This means that each time an image is passed through the pipeline, a different image is returned. Depending on the number of operations in the pipeline, and the range of values that each operation has available, a very large amount of new image data can be created in this way.\n",
    "\n",
    "The balancing of each class using Augmentor has helped to improve the performance of the model drastically. We can see from the plot that both training and validation accuracy increases steadily. Final accuracy achieved for training set is ~94% and validation set is ~80%. We can also infer that Augmentation also helped to control the initial overfitting issue."
   ]
  },
  {
   "cell_type": "code",
   "execution_count": null,
   "id": "b7d2149b",
   "metadata": {},
   "outputs": [],
   "source": [
    "test_ds = tf.keras.preprocessing.image_dataset_from_directory(\n",
    "  data_dir_test,\n",
    "  labels='inferred',\n",
    "  label_mode='int',\n",
    "  batch_size=32,\n",
    "  class_names=None,\n",
    "  color_mode='rgb',\n",
    "  image_size=(img_height, img_width),\n",
    "  seed=123,\n",
    "  shuffle=False,\n",
    "  interpolation='bilinear',\n",
    "  follow_links=False)"
   ]
  },
  {
   "cell_type": "code",
   "execution_count": null,
   "id": "ce36e0c7",
   "metadata": {},
   "outputs": [],
   "source": [
    "img_path = '/content/gdrive/MyDrive/Skin cancer ISIC The International Skin Imaging Collaboration/Test/melanoma/ISIC_0000036.jpg'\n",
    "img = keras.preprocessing.image.load_img(\n",
    "    img_path, target_size=(img_height, img_width)\n",
    ")\n",
    "img_array = keras.preprocessing.image.img_to_array(img)\n",
    "img_array = tf.expand_dims(img_array, 0) # Create a batch\n",
    "\n",
    "predictions = model.predict(img_array)\n",
    "print('Predictions:- ',predictions)\n",
    "\n",
    "score = tf.nn.relu(predictions[0])\n",
    "print('Score:- ',score)\n",
    "print(\"This image most likely belongs to {} with a {:.2f} prediction score.\"\n",
    "    .format(class_names[np.argmax(score)], np.max(score))\n",
    ")"
   ]
  },
  {
   "cell_type": "code",
   "execution_count": null,
   "id": "8251bee0",
   "metadata": {},
   "outputs": [],
   "source": []
  }
 ],
 "metadata": {
  "kernelspec": {
   "display_name": "Python 3 (ipykernel)",
   "language": "python",
   "name": "python3"
  },
  "language_info": {
   "codemirror_mode": {
    "name": "ipython",
    "version": 3
   },
   "file_extension": ".py",
   "mimetype": "text/x-python",
   "name": "python",
   "nbconvert_exporter": "python",
   "pygments_lexer": "ipython3",
   "version": "3.9.12"
  }
 },
 "nbformat": 4,
 "nbformat_minor": 5
}
